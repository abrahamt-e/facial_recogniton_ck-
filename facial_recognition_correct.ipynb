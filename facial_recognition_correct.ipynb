{
  "nbformat": 4,
  "nbformat_minor": 0,
  "metadata": {
    "colab": {
      "provenance": [],
      "authorship_tag": "ABX9TyMZ/zB98Ctl/ltnIBQZSy1K",
      "include_colab_link": true
    },
    "kernelspec": {
      "name": "python3",
      "display_name": "Python 3"
    },
    "language_info": {
      "name": "python"
    }
  },
  "cells": [
    {
      "cell_type": "markdown",
      "metadata": {
        "id": "view-in-github",
        "colab_type": "text"
      },
      "source": [
        "<a href=\"https://colab.research.google.com/github/abrahamt-e/facial_recogniton_ck-/blob/main/facial_recognition_correct.ipynb\" target=\"_parent\"><img src=\"https://colab.research.google.com/assets/colab-badge.svg\" alt=\"Open In Colab\"/></a>"
      ]
    },
    {
      "cell_type": "code",
      "source": [
        "# ===================== 1. Upload and Extract ZIP =====================\n",
        "from google.colab import files\n",
        "import zipfile\n",
        "import os\n",
        "\n",
        "# Upload manually from your Downloads folder\n",
        "uploaded = files.upload()  # upload `archive.zip` here\n",
        "\n",
        "# Extract it\n",
        "with zipfile.ZipFile(\"archive.zip\", 'r') as zip_ref:\n",
        "    zip_ref.extractall(\"ck_dataset\")\n",
        "\n",
        "# Check files\n",
        "print(\"Extracted files:\", os.listdir(\"ck_dataset\"))\n",
        "\n",
        "# ===================== 2. Install & Import Libraries =====================\n",
        "import numpy as np\n",
        "import pandas as pd\n",
        "import torch\n",
        "import torch.nn as nn\n",
        "from torch.utils.data import Dataset, DataLoader\n",
        "from sklearn.model_selection import train_test_split\n",
        "from tqdm import tqdm\n",
        "\n",
        "# ===================== 3. Dataset Loading =====================\n",
        "df = pd.read_csv(\"ck_dataset/ckextended.csv\")\n",
        "df = df[df[\"emotion\"].isin(range(8))]  # Ensure only 8 emotions\n",
        "\n",
        "class FERDataset(Dataset):\n",
        "    def __init__(self, dataframe):\n",
        "        self.data = dataframe.reset_index(drop=True)\n",
        "\n",
        "    def __len__(self):\n",
        "        return len(self.data)\n",
        "\n",
        "    def __getitem__(self, idx):\n",
        "        row = self.data.iloc[idx]\n",
        "        pixels = np.fromstring(row['pixels'], dtype=int, sep=' ').reshape(48, 48)\n",
        "        image = torch.tensor(pixels, dtype=torch.float32).unsqueeze(0) / 255.0\n",
        "        label = int(row['emotion'])\n",
        "        return image, label\n",
        "\n",
        "train_df = df[df['Usage'] == \"Training\"]\n",
        "val_df = df[df['Usage'] == \"PublicTest\"]\n",
        "\n",
        "train_dataset = FERDataset(train_df)\n",
        "val_dataset = FERDataset(val_df)\n",
        "\n",
        "train_loader = DataLoader(train_dataset, batch_size=64, shuffle=True)\n",
        "val_loader = DataLoader(val_dataset, batch_size=64, shuffle=False)\n",
        "\n",
        "# ===================== 4. CNN Model =====================\n",
        "class EmotionCNN(nn.Module):\n",
        "    def __init__(self):\n",
        "        super(EmotionCNN, self).__init__()\n",
        "        self.conv = nn.Sequential(\n",
        "            nn.Conv2d(1, 32, kernel_size=3, padding=1),\n",
        "            nn.BatchNorm2d(32),\n",
        "            nn.ReLU(),\n",
        "            nn.MaxPool2d(2),  # 24x24\n",
        "\n",
        "            nn.Conv2d(32, 64, kernel_size=3, padding=1),\n",
        "            nn.BatchNorm2d(64),\n",
        "            nn.ReLU(),\n",
        "            nn.MaxPool2d(2),  # 12x12\n",
        "\n",
        "            nn.Conv2d(64, 128, kernel_size=3, padding=1),\n",
        "            nn.BatchNorm2d(128),\n",
        "            nn.ReLU(),\n",
        "            nn.MaxPool2d(2)   # 6x6\n",
        "        )\n",
        "        self.fc = nn.Sequential(\n",
        "            nn.Flatten(),\n",
        "            nn.Linear(128*6*6, 256),\n",
        "            nn.ReLU(),\n",
        "            nn.Dropout(0.3),\n",
        "            nn.Linear(256, 8)  # 8 emotion classes\n",
        "        )\n",
        "\n",
        "    def forward(self, x):\n",
        "        x = self.conv(x)\n",
        "        x = self.fc(x)\n",
        "        return x\n",
        "\n",
        "# ===================== 5. Train the Model =====================\n",
        "device = torch.device(\"cuda\" if torch.cuda.is_available() else \"cpu\")\n",
        "model = EmotionCNN().to(device)\n",
        "\n",
        "criterion = nn.CrossEntropyLoss()\n",
        "optimizer = torch.optim.Adam(model.parameters(), lr=0.001)\n",
        "\n",
        "def evaluate(loader):\n",
        "    model.eval()\n",
        "    total, correct, loss_sum = 0, 0, 0\n",
        "    with torch.no_grad():\n",
        "        for x, y in loader:\n",
        "            x, y = x.to(device), y.to(device)\n",
        "            out = model(x)\n",
        "            loss = criterion(out, y)\n",
        "            loss_sum += loss.item()\n",
        "            preds = torch.argmax(out, dim=1)\n",
        "            correct += (preds == y).sum().item()\n",
        "            total += y.size(0)\n",
        "    acc = correct / total * 100\n",
        "    return loss_sum / len(loader), acc\n",
        "\n",
        "# ===================== 6. Run Training =====================\n",
        "for epoch in range(10):\n",
        "    model.train()\n",
        "    total, correct, loss_sum = 0, 0, 0\n",
        "    loop = tqdm(train_loader, desc=f\"Epoch {epoch+1}/10\")\n",
        "    for x, y in loop:\n",
        "        x, y = x.to(device), y.to(device)\n",
        "        optimizer.zero_grad()\n",
        "        out = model(x)\n",
        "        loss = criterion(out, y)\n",
        "        loss.backward()\n",
        "        optimizer.step()\n",
        "\n",
        "        loss_sum += loss.item()\n",
        "        preds = torch.argmax(out, dim=1)\n",
        "        correct += (preds == y).sum().item()\n",
        "        total += y.size(0)\n",
        "        loop.set_postfix(loss=loss_sum/(total/64), acc=correct/total*100)\n",
        "\n",
        "    val_loss, val_acc = evaluate(val_loader)\n",
        "    print(f\"Val Loss: {val_loss:.4f}, Val Acc: {val_acc:.2f}%\")\n"
      ],
      "metadata": {
        "colab": {
          "base_uri": "https://localhost:8080/",
          "height": 437
        },
        "id": "k6CkeC-gFEIi",
        "outputId": "f7227ecc-d6aa-41b1-b5e8-898ce8b5840f"
      },
      "execution_count": 5,
      "outputs": [
        {
          "output_type": "display_data",
          "data": {
            "text/plain": [
              "<IPython.core.display.HTML object>"
            ],
            "text/html": [
              "\n",
              "     <input type=\"file\" id=\"files-f01f1546-1523-493d-8a6c-0a2855e51c82\" name=\"files[]\" multiple disabled\n",
              "        style=\"border:none\" />\n",
              "     <output id=\"result-f01f1546-1523-493d-8a6c-0a2855e51c82\">\n",
              "      Upload widget is only available when the cell has been executed in the\n",
              "      current browser session. Please rerun this cell to enable.\n",
              "      </output>\n",
              "      <script>// Copyright 2017 Google LLC\n",
              "//\n",
              "// Licensed under the Apache License, Version 2.0 (the \"License\");\n",
              "// you may not use this file except in compliance with the License.\n",
              "// You may obtain a copy of the License at\n",
              "//\n",
              "//      http://www.apache.org/licenses/LICENSE-2.0\n",
              "//\n",
              "// Unless required by applicable law or agreed to in writing, software\n",
              "// distributed under the License is distributed on an \"AS IS\" BASIS,\n",
              "// WITHOUT WARRANTIES OR CONDITIONS OF ANY KIND, either express or implied.\n",
              "// See the License for the specific language governing permissions and\n",
              "// limitations under the License.\n",
              "\n",
              "/**\n",
              " * @fileoverview Helpers for google.colab Python module.\n",
              " */\n",
              "(function(scope) {\n",
              "function span(text, styleAttributes = {}) {\n",
              "  const element = document.createElement('span');\n",
              "  element.textContent = text;\n",
              "  for (const key of Object.keys(styleAttributes)) {\n",
              "    element.style[key] = styleAttributes[key];\n",
              "  }\n",
              "  return element;\n",
              "}\n",
              "\n",
              "// Max number of bytes which will be uploaded at a time.\n",
              "const MAX_PAYLOAD_SIZE = 100 * 1024;\n",
              "\n",
              "function _uploadFiles(inputId, outputId) {\n",
              "  const steps = uploadFilesStep(inputId, outputId);\n",
              "  const outputElement = document.getElementById(outputId);\n",
              "  // Cache steps on the outputElement to make it available for the next call\n",
              "  // to uploadFilesContinue from Python.\n",
              "  outputElement.steps = steps;\n",
              "\n",
              "  return _uploadFilesContinue(outputId);\n",
              "}\n",
              "\n",
              "// This is roughly an async generator (not supported in the browser yet),\n",
              "// where there are multiple asynchronous steps and the Python side is going\n",
              "// to poll for completion of each step.\n",
              "// This uses a Promise to block the python side on completion of each step,\n",
              "// then passes the result of the previous step as the input to the next step.\n",
              "function _uploadFilesContinue(outputId) {\n",
              "  const outputElement = document.getElementById(outputId);\n",
              "  const steps = outputElement.steps;\n",
              "\n",
              "  const next = steps.next(outputElement.lastPromiseValue);\n",
              "  return Promise.resolve(next.value.promise).then((value) => {\n",
              "    // Cache the last promise value to make it available to the next\n",
              "    // step of the generator.\n",
              "    outputElement.lastPromiseValue = value;\n",
              "    return next.value.response;\n",
              "  });\n",
              "}\n",
              "\n",
              "/**\n",
              " * Generator function which is called between each async step of the upload\n",
              " * process.\n",
              " * @param {string} inputId Element ID of the input file picker element.\n",
              " * @param {string} outputId Element ID of the output display.\n",
              " * @return {!Iterable<!Object>} Iterable of next steps.\n",
              " */\n",
              "function* uploadFilesStep(inputId, outputId) {\n",
              "  const inputElement = document.getElementById(inputId);\n",
              "  inputElement.disabled = false;\n",
              "\n",
              "  const outputElement = document.getElementById(outputId);\n",
              "  outputElement.innerHTML = '';\n",
              "\n",
              "  const pickedPromise = new Promise((resolve) => {\n",
              "    inputElement.addEventListener('change', (e) => {\n",
              "      resolve(e.target.files);\n",
              "    });\n",
              "  });\n",
              "\n",
              "  const cancel = document.createElement('button');\n",
              "  inputElement.parentElement.appendChild(cancel);\n",
              "  cancel.textContent = 'Cancel upload';\n",
              "  const cancelPromise = new Promise((resolve) => {\n",
              "    cancel.onclick = () => {\n",
              "      resolve(null);\n",
              "    };\n",
              "  });\n",
              "\n",
              "  // Wait for the user to pick the files.\n",
              "  const files = yield {\n",
              "    promise: Promise.race([pickedPromise, cancelPromise]),\n",
              "    response: {\n",
              "      action: 'starting',\n",
              "    }\n",
              "  };\n",
              "\n",
              "  cancel.remove();\n",
              "\n",
              "  // Disable the input element since further picks are not allowed.\n",
              "  inputElement.disabled = true;\n",
              "\n",
              "  if (!files) {\n",
              "    return {\n",
              "      response: {\n",
              "        action: 'complete',\n",
              "      }\n",
              "    };\n",
              "  }\n",
              "\n",
              "  for (const file of files) {\n",
              "    const li = document.createElement('li');\n",
              "    li.append(span(file.name, {fontWeight: 'bold'}));\n",
              "    li.append(span(\n",
              "        `(${file.type || 'n/a'}) - ${file.size} bytes, ` +\n",
              "        `last modified: ${\n",
              "            file.lastModifiedDate ? file.lastModifiedDate.toLocaleDateString() :\n",
              "                                    'n/a'} - `));\n",
              "    const percent = span('0% done');\n",
              "    li.appendChild(percent);\n",
              "\n",
              "    outputElement.appendChild(li);\n",
              "\n",
              "    const fileDataPromise = new Promise((resolve) => {\n",
              "      const reader = new FileReader();\n",
              "      reader.onload = (e) => {\n",
              "        resolve(e.target.result);\n",
              "      };\n",
              "      reader.readAsArrayBuffer(file);\n",
              "    });\n",
              "    // Wait for the data to be ready.\n",
              "    let fileData = yield {\n",
              "      promise: fileDataPromise,\n",
              "      response: {\n",
              "        action: 'continue',\n",
              "      }\n",
              "    };\n",
              "\n",
              "    // Use a chunked sending to avoid message size limits. See b/62115660.\n",
              "    let position = 0;\n",
              "    do {\n",
              "      const length = Math.min(fileData.byteLength - position, MAX_PAYLOAD_SIZE);\n",
              "      const chunk = new Uint8Array(fileData, position, length);\n",
              "      position += length;\n",
              "\n",
              "      const base64 = btoa(String.fromCharCode.apply(null, chunk));\n",
              "      yield {\n",
              "        response: {\n",
              "          action: 'append',\n",
              "          file: file.name,\n",
              "          data: base64,\n",
              "        },\n",
              "      };\n",
              "\n",
              "      let percentDone = fileData.byteLength === 0 ?\n",
              "          100 :\n",
              "          Math.round((position / fileData.byteLength) * 100);\n",
              "      percent.textContent = `${percentDone}% done`;\n",
              "\n",
              "    } while (position < fileData.byteLength);\n",
              "  }\n",
              "\n",
              "  // All done.\n",
              "  yield {\n",
              "    response: {\n",
              "      action: 'complete',\n",
              "    }\n",
              "  };\n",
              "}\n",
              "\n",
              "scope.google = scope.google || {};\n",
              "scope.google.colab = scope.google.colab || {};\n",
              "scope.google.colab._files = {\n",
              "  _uploadFiles,\n",
              "  _uploadFilesContinue,\n",
              "};\n",
              "})(self);\n",
              "</script> "
            ]
          },
          "metadata": {}
        },
        {
          "output_type": "stream",
          "name": "stdout",
          "text": [
            "Saving archive.zip to archive (1).zip\n",
            "Extracted files: ['ckextended.csv']\n"
          ]
        },
        {
          "output_type": "stream",
          "name": "stderr",
          "text": [
            "Epoch 1/10: 100%|██████████| 12/12 [00:04<00:00,  2.42it/s, acc=50, loss=2.47]\n"
          ]
        },
        {
          "output_type": "stream",
          "name": "stdout",
          "text": [
            "Val Loss: 1.7915, Val Acc: 64.84%\n"
          ]
        },
        {
          "output_type": "stream",
          "name": "stderr",
          "text": [
            "Epoch 2/10: 100%|██████████| 12/12 [00:04<00:00,  2.41it/s, acc=64.6, loss=1.39]\n"
          ]
        },
        {
          "output_type": "stream",
          "name": "stdout",
          "text": [
            "Val Loss: 1.6585, Val Acc: 64.84%\n"
          ]
        },
        {
          "output_type": "stream",
          "name": "stderr",
          "text": [
            "Epoch 3/10: 100%|██████████| 12/12 [00:04<00:00,  2.80it/s, acc=66.3, loss=1.16]\n"
          ]
        },
        {
          "output_type": "stream",
          "name": "stdout",
          "text": [
            "Val Loss: 1.5815, Val Acc: 65.93%\n"
          ]
        },
        {
          "output_type": "stream",
          "name": "stderr",
          "text": [
            "Epoch 4/10: 100%|██████████| 12/12 [00:05<00:00,  2.28it/s, acc=73.3, loss=1.01]\n"
          ]
        },
        {
          "output_type": "stream",
          "name": "stdout",
          "text": [
            "Val Loss: 1.3965, Val Acc: 68.13%\n"
          ]
        },
        {
          "output_type": "stream",
          "name": "stderr",
          "text": [
            "Epoch 5/10: 100%|██████████| 12/12 [00:04<00:00,  2.78it/s, acc=79.3, loss=0.792]\n"
          ]
        },
        {
          "output_type": "stream",
          "name": "stdout",
          "text": [
            "Val Loss: 1.2484, Val Acc: 75.82%\n"
          ]
        },
        {
          "output_type": "stream",
          "name": "stderr",
          "text": [
            "Epoch 6/10: 100%|██████████| 12/12 [00:04<00:00,  2.75it/s, acc=81.7, loss=0.688]\n"
          ]
        },
        {
          "output_type": "stream",
          "name": "stdout",
          "text": [
            "Val Loss: 1.0799, Val Acc: 79.12%\n"
          ]
        },
        {
          "output_type": "stream",
          "name": "stderr",
          "text": [
            "Epoch 7/10: 100%|██████████| 12/12 [00:05<00:00,  2.27it/s, acc=84.6, loss=0.604]\n"
          ]
        },
        {
          "output_type": "stream",
          "name": "stdout",
          "text": [
            "Val Loss: 0.9184, Val Acc: 84.62%\n"
          ]
        },
        {
          "output_type": "stream",
          "name": "stderr",
          "text": [
            "Epoch 8/10: 100%|██████████| 12/12 [00:04<00:00,  2.74it/s, acc=86.8, loss=0.451]\n"
          ]
        },
        {
          "output_type": "stream",
          "name": "stdout",
          "text": [
            "Val Loss: 1.0638, Val Acc: 84.62%\n"
          ]
        },
        {
          "output_type": "stream",
          "name": "stderr",
          "text": [
            "Epoch 9/10: 100%|██████████| 12/12 [00:04<00:00,  2.47it/s, acc=88.3, loss=0.395]\n"
          ]
        },
        {
          "output_type": "stream",
          "name": "stdout",
          "text": [
            "Val Loss: 0.9164, Val Acc: 86.81%\n"
          ]
        },
        {
          "output_type": "stream",
          "name": "stderr",
          "text": [
            "Epoch 10/10: 100%|██████████| 12/12 [00:04<00:00,  2.55it/s, acc=89.9, loss=0.325]\n"
          ]
        },
        {
          "output_type": "stream",
          "name": "stdout",
          "text": [
            "Val Loss: 0.8626, Val Acc: 85.71%\n"
          ]
        }
      ]
    },
    {
      "cell_type": "code",
      "source": [
        "import matplotlib.pyplot as plt\n",
        "import torch\n",
        "\n",
        "# Map labels to emotion names\n",
        "emotion_dict = {\n",
        "    0: \"Anger\",\n",
        "    1: \"Disgust\",\n",
        "    2: \"Fear\",\n",
        "    3: \"Happiness\",\n",
        "    4: \"Sadness\",\n",
        "    5: \"Surprise\",\n",
        "    6: \"Neutral\",\n",
        "    7: \"Contempt\"\n",
        "}\n",
        "\n",
        "def test_and_show_image(model, dataset, idx, device):\n",
        "    model.eval()\n",
        "    image, true_label = dataset[idx]\n",
        "\n",
        "    with torch.no_grad():\n",
        "        x = image.unsqueeze(0).to(device)  # Add batch dimension and send to device\n",
        "        output = model(x)\n",
        "        pred_label = torch.argmax(output, dim=1).item()\n",
        "\n",
        "    # Plot image\n",
        "    plt.imshow(image.squeeze(0), cmap='gray')\n",
        "    plt.title(f\"True: {emotion_dict[true_label]} | Predicted: {emotion_dict[pred_label]}\")\n",
        "    plt.axis('off')\n",
        "    plt.show()\n",
        "\n",
        "# Example usage:\n",
        "# Replace val_dataset with your dataset and 'model' with your trained model.\n",
        "# Make sure 'device' is defined (cpu or cuda)\n",
        "test_index = 0  # pick any index you want to test\n",
        "test_and_show_image(model, val_dataset, test_index, device)\n"
      ],
      "metadata": {
        "colab": {
          "base_uri": "https://localhost:8080/",
          "height": 428
        },
        "id": "z7WS_j2OFS1e",
        "outputId": "dacab4b7-6c4b-46c1-bd35-c96bc09f875c"
      },
      "execution_count": 6,
      "outputs": [
        {
          "output_type": "display_data",
          "data": {
            "text/plain": [
              "<Figure size 640x480 with 1 Axes>"
            ],
            "image/png": "[encoded data removed]"
          },
          "metadata": {}
        }
      ]
    },
    {
      "cell_type": "code",
      "source": [
        "import matplotlib.pyplot as plt\n",
        "import torch\n",
        "\n",
        "# Map labels to emotion names\n",
        "emotion_dict = {\n",
        "    0: \"Anger\",\n",
        "    1: \"Disgust\",\n",
        "    2: \"Fear\",\n",
        "    3: \"Happiness\",\n",
        "    4: \"Sadness\",\n",
        "    5: \"Surprise\",\n",
        "    6: \"Neutral\",\n",
        "    7: \"Contempt\"\n",
        "}\n",
        "\n",
        "def test_and_show_image(model, dataset, idx, device):\n",
        "    model.eval()\n",
        "    image, true_label = dataset[idx]\n",
        "\n",
        "    with torch.no_grad():\n",
        "        x = image.unsqueeze(0).to(device)  # Add batch dimension and send to device\n",
        "        output = model(x)\n",
        "        pred_label = torch.argmax(output, dim=1).item()\n",
        "\n",
        "    # Plot image\n",
        "    plt.imshow(image.squeeze(0), cmap='gray')\n",
        "    plt.title(f\"True: {emotion_dict[true_label]} | Predicted: {emotion_dict[pred_label]}\")\n",
        "    plt.axis('off')\n",
        "    plt.show()\n",
        "\n",
        "# Example usage:\n",
        "# Replace val_dataset with your dataset and 'model' with your trained model.\n",
        "# Make sure 'device' is defined (cpu or cuda)\n",
        "test_index = 0  # pick any index you want to test\n",
        "test_and_show_image(model, val_dataset, test_index, device)\n"
      ],
      "metadata": {
        "colab": {
          "base_uri": "https://localhost:8080/",
          "height": 428
        },
        "id": "gVZKFoIpF4Rj",
        "outputId": "c1ebadd8-0743-4051-a160-b7665abd0dcd"
      },
      "execution_count": 7,
      "outputs": [
        {
          "output_type": "display_data",
          "data": {
            "text/plain": [
              "<Figure size 640x480 with 1 Axes>"
            ],
            "image/png": "[encoded data removed]"
          },
          "metadata": {}
        }
      ]
    },
    {
      "cell_type": "code",
      "source": [
        "import matplotlib.pyplot as plt\n",
        "import torch\n",
        "import random\n",
        "\n",
        "# Map labels to emotion names\n",
        "emotion_dict = {\n",
        "    0: \"Anger\",\n",
        "    1: \"Disgust\",\n",
        "    2: \"Fear\",\n",
        "    3: \"Happiness\",\n",
        "    4: \"Sadness\",\n",
        "    5: \"Surprise\",\n",
        "    6: \"Neutral\",\n",
        "    7: \"Contempt\"\n",
        "}\n",
        "\n",
        "def test_and_show_random_image(model, dataset, device):\n",
        "    model.eval()\n",
        "    idx = random.randint(0, len(dataset) - 1)  # Pick random index\n",
        "    image, true_label = dataset[idx]\n",
        "\n",
        "    with torch.no_grad():\n",
        "        x = image.unsqueeze(0).to(device)  # Add batch dim, send to device\n",
        "        output = model(x)\n",
        "        pred_label = torch.argmax(output, dim=1).item()\n",
        "\n",
        "    plt.imshow(image.squeeze(0), cmap='gray')\n",
        "    plt.title(f\"True: {emotion_dict[true_label]} | Predicted: {emotion_dict[pred_label]} | Index: {idx}\")\n",
        "    plt.axis('off')\n",
        "    plt.show()\n",
        "\n",
        "# Example usage:\n",
        "test_and_show_random_image(model, val_dataset, device)\n"
      ],
      "metadata": {
        "colab": {
          "base_uri": "https://localhost:8080/",
          "height": 428
        },
        "id": "WzCCz5miF6UV",
        "outputId": "a067d8cd-4900-41e8-aea1-645c7ba85e7a"
      },
      "execution_count": 8,
      "outputs": [
        {
          "output_type": "display_data",
          "data": {
            "text/plain": [
              "<Figure size 640x480 with 1 Axes>"
            ],
            "image/png": "[encoded data removed]"
          },
          "metadata": {}
        }
      ]
    },
    {
      "cell_type": "code",
      "source": [
        "import matplotlib.pyplot as plt\n",
        "import torch\n",
        "import random\n",
        "\n",
        "# Map labels to emotion names\n",
        "emotion_dict = {\n",
        "    0: \"Anger\",\n",
        "    1: \"Disgust\",\n",
        "    2: \"Fear\",\n",
        "    3: \"Happiness\",\n",
        "    4: \"Sadness\",\n",
        "    5: \"Surprise\",\n",
        "    6: \"Neutral\",\n",
        "    7: \"Contempt\"\n",
        "}\n",
        "\n",
        "def test_and_show_random_image(model, dataset, device):\n",
        "    model.eval()\n",
        "    idx = random.randint(0, len(dataset) - 1)  # Pick random index\n",
        "    image, true_label = dataset[idx]\n",
        "\n",
        "    with torch.no_grad():\n",
        "        x = image.unsqueeze(0).to(device)  # Add batch dim, send to device\n",
        "        output = model(x)\n",
        "        pred_label = torch.argmax(output, dim=1).item()\n",
        "\n",
        "    plt.imshow(image.squeeze(0), cmap='gray')\n",
        "    plt.title(f\"True: {emotion_dict[true_label]} | Predicted: {emotion_dict[pred_label]} | Index: {idx}\")\n",
        "    plt.axis('off')\n",
        "    plt.show()\n",
        "\n",
        "# Example usage:\n",
        "test_and_show_random_image(model, val_dataset, device)\n"
      ],
      "metadata": {
        "colab": {
          "base_uri": "https://localhost:8080/",
          "height": 428
        },
        "id": "fAwKeHHcGFb5",
        "outputId": "b34666e4-0f04-4ef3-e7b5-7f599775acd7"
      },
      "execution_count": 9,
      "outputs": [
        {
          "output_type": "display_data",
          "data": {
            "text/plain": [
              "<Figure size 640x480 with 1 Axes>"
            ],
            "image/png": "[encoded data removed]"
          },
          "metadata": {}
        }
      ]
    },
    {
      "cell_type": "code",
      "source": [
        "import matplotlib.pyplot as plt\n",
        "import torch\n",
        "import random\n",
        "\n",
        "# Map labels to emotion names\n",
        "emotion_dict = {\n",
        "    0: \"Anger\",\n",
        "    1: \"Disgust\",\n",
        "    2: \"Fear\",\n",
        "    3: \"Happiness\",\n",
        "    4: \"Sadness\",\n",
        "    5: \"Surprise\",\n",
        "    6: \"Neutral\",\n",
        "    7: \"Contempt\"\n",
        "}\n",
        "\n",
        "def test_and_show_random_image(model, dataset, device):\n",
        "    model.eval()\n",
        "    idx = random.randint(0, len(dataset) - 1)  # Pick random index\n",
        "    image, true_label = dataset[idx]\n",
        "\n",
        "    with torch.no_grad():\n",
        "        x = image.unsqueeze(0).to(device)  # Add batch dim, send to device\n",
        "        output = model(x)\n",
        "        pred_label = torch.argmax(output, dim=1).item()\n",
        "\n",
        "    plt.imshow(image.squeeze(0), cmap='gray')\n",
        "    plt.title(f\"True: {emotion_dict[true_label]} | Predicted: {emotion_dict[pred_label]} | Index: {idx}\")\n",
        "    plt.axis('off')\n",
        "    plt.show()\n",
        "\n",
        "# Example usage:\n",
        "test_and_show_random_image(model, val_dataset, device)\n"
      ],
      "metadata": {
        "colab": {
          "base_uri": "https://localhost:8080/",
          "height": 428
        },
        "id": "KkGdbf3bGG8D",
        "outputId": "07d462ac-ae2d-41f9-8ae3-c473a69b3602"
      },
      "execution_count": 10,
      "outputs": [
        {
          "output_type": "display_data",
          "data": {
            "text/plain": [
              "<Figure size 640x480 with 1 Axes>"
            ],
            "image/png": "[encoded data removed]"
          },
          "metadata": {}
        }
      ]
    },
    {
      "cell_type": "code",
      "source": [
        "import matplotlib.pyplot as plt\n",
        "import torch\n",
        "import random\n",
        "\n",
        "# Map labels to emotion names\n",
        "emotion_dict = {\n",
        "    0: \"Anger\",\n",
        "    1: \"Disgust\",\n",
        "    2: \"Fear\",\n",
        "    3: \"Happiness\",\n",
        "    4: \"Sadness\",\n",
        "    5: \"Surprise\",\n",
        "    6: \"Neutral\",\n",
        "    7: \"Contempt\"\n",
        "}\n",
        "\n",
        "def test_and_show_random_image(model, dataset, device):\n",
        "    model.eval()\n",
        "    idx = random.randint(0, len(dataset) - 1)  # Pick random index\n",
        "    image, true_label = dataset[idx]\n",
        "\n",
        "    with torch.no_grad():\n",
        "        x = image.unsqueeze(0).to(device)  # Add batch dim, send to device\n",
        "        output = model(x)\n",
        "        pred_label = torch.argmax(output, dim=1).item()\n",
        "\n",
        "    plt.imshow(image.squeeze(0), cmap='gray')\n",
        "    plt.title(f\"True: {emotion_dict[true_label]} | Predicted: {emotion_dict[pred_label]} | Index: {idx}\")\n",
        "    plt.axis('off')\n",
        "    plt.show()\n",
        "\n",
        "# Example usage:\n",
        "test_and_show_random_image(model, val_dataset, device)\n"
      ],
      "metadata": {
        "colab": {
          "base_uri": "https://localhost:8080/",
          "height": 428
        },
        "id": "XfCjtqCNGI1X",
        "outputId": "09fe7ca5-293f-4ae8-ebe7-23c5ad3cc978"
      },
      "execution_count": 11,
      "outputs": [
        {
          "output_type": "display_data",
          "data": {
            "text/plain": [
              "<Figure size 640x480 with 1 Axes>"
            ],
            "image/png": "[encoded data removed]"
          },
          "metadata": {}
        }
      ]
    },
    {
      "cell_type": "code",
      "source": [],
      "metadata": {
        "id": "BjgexKhuGKjP"
      },
      "execution_count": null,
      "outputs": []
    }
  ]
}